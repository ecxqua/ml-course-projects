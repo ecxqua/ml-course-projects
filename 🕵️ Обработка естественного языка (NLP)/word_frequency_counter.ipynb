{
  "nbformat": 4,
  "nbformat_minor": 0,
  "metadata": {
    "colab": {
      "provenance": []
    },
    "kernelspec": {
      "name": "python3",
      "display_name": "Python 3"
    },
    "language_info": {
      "name": "python"
    }
  },
  "cells": [
    {
      "cell_type": "markdown",
      "source": [
        "Подключение библотек"
      ],
      "metadata": {
        "id": "lTaM9Ha7U91x"
      }
    },
    {
      "cell_type": "code",
      "source": [
        "import nltk\n",
        "from nltk.tokenize import RegexpTokenizer\n",
        "from nltk.probability import FreqDist\n"
      ],
      "metadata": {
        "id": "qebXuivtVCcx"
      },
      "execution_count": null,
      "outputs": []
    },
    {
      "cell_type": "markdown",
      "source": [
        "Ввод текста пользователем"
      ],
      "metadata": {
        "id": "Jinyn7w3VHJA"
      }
    },
    {
      "cell_type": "code",
      "source": [
        "text = input()"
      ],
      "metadata": {
        "id": "NGwgdBaWVG6p",
        "colab": {
          "base_uri": "https://localhost:8080/"
        },
        "outputId": "1b482615-c74d-4a65-9e71-57253698f8a4"
      },
      "execution_count": null,
      "outputs": [
        {
          "name": "stdout",
          "output_type": "stream",
          "text": [
            "Программирование - это увлекательно!\n"
          ]
        }
      ]
    },
    {
      "cell_type": "markdown",
      "source": [
        "Токенизация (разбивка текста на слова)"
      ],
      "metadata": {
        "id": "FjBLiCRxWvx5"
      }
    },
    {
      "cell_type": "code",
      "source": [
        "tok = RegexpTokenizer(r'\\w+')\n",
        "words = tok.tokenize(text)\n",
        "#создание объекта токенизации через RegexpTokenizer\n",
        "#разбиваем текст на слова через tokenize"
      ],
      "metadata": {
        "id": "BjH0fqScWxfg"
      },
      "execution_count": null,
      "outputs": []
    },
    {
      "cell_type": "code",
      "source": [
        "words"
      ],
      "metadata": {
        "colab": {
          "base_uri": "https://localhost:8080/"
        },
        "id": "wl3XdmxEglaf",
        "outputId": "f5613d15-da9f-4a35-d648-37c2ab7fcb0e"
      },
      "execution_count": null,
      "outputs": [
        {
          "output_type": "execute_result",
          "data": {
            "text/plain": [
              "['Программирование', 'это', 'увлекательно']"
            ]
          },
          "metadata": {},
          "execution_count": 30
        }
      ]
    },
    {
      "cell_type": "markdown",
      "source": [
        "Количество слов в тексте"
      ],
      "metadata": {
        "id": "74vvksms3Nyy"
      }
    },
    {
      "cell_type": "code",
      "source": [
        "len(words)"
      ],
      "metadata": {
        "id": "PBQIDMk_YJ6o",
        "colab": {
          "base_uri": "https://localhost:8080/"
        },
        "outputId": "3d7bc46c-50b6-4980-935b-45ccd446a20c"
      },
      "execution_count": null,
      "outputs": [
        {
          "output_type": "execute_result",
          "data": {
            "text/plain": [
              "3"
            ]
          },
          "metadata": {},
          "execution_count": 31
        }
      ]
    },
    {
      "cell_type": "markdown",
      "source": [
        "Частота слов"
      ],
      "metadata": {
        "id": "KkCc2NIrWCkw"
      }
    },
    {
      "cell_type": "code",
      "source": [
        "freq_dist = FreqDist(words)\n",
        "freq_dist.items()\n",
        "\n",
        "print('Частота слов: ')\n",
        "for word in freq_dist:\n",
        "  print(f'-\"{word}\": {round((freq_dist[word]/len(words))*100)}%')\n",
        "\n",
        "# в словаре считаем процент частоты каждого слова от общего кол-ва строк\n",
        "#вывод значений словаря"
      ],
      "metadata": {
        "id": "7gYWn4w1VjE4",
        "colab": {
          "base_uri": "https://localhost:8080/"
        },
        "outputId": "0b57be0f-3022-4185-f7fd-eebf9af32918"
      },
      "execution_count": null,
      "outputs": [
        {
          "output_type": "stream",
          "name": "stdout",
          "text": [
            "Частота слов: \n",
            "-\"Программирование\": 33%\n",
            "-\"это\": 33%\n",
            "-\"увлекательно\": 33%\n"
          ]
        }
      ]
    }
  ]
}