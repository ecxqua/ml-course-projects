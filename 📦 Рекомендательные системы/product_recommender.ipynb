{
  "nbformat": 4,
  "nbformat_minor": 0,
  "metadata": {
    "colab": {
      "provenance": []
    },
    "kernelspec": {
      "name": "python3",
      "display_name": "Python 3"
    },
    "language_info": {
      "name": "python"
    }
  },
  "cells": [
    {
      "cell_type": "code",
      "execution_count": null,
      "metadata": {
        "colab": {
          "base_uri": "https://localhost:8080/"
        },
        "id": "HZanLB-Sx3EP",
        "outputId": "bcdecaa6-6db8-4b39-cdac-c5c217a64838"
      },
      "outputs": [
        {
          "output_type": "stream",
          "name": "stdout",
          "text": [
            "Collecting scikit-surprise\n",
            "  Downloading scikit-surprise-1.1.3.tar.gz (771 kB)\n",
            "\u001b[?25l     \u001b[90m━━━━━━━━━━━━━━━━━━━━━━━━━━━━━━━━━━━━━━━━\u001b[0m \u001b[32m0.0/772.0 kB\u001b[0m \u001b[31m?\u001b[0m eta \u001b[36m-:--:--\u001b[0m\r\u001b[2K     \u001b[91m━━━━━━━━━━━\u001b[0m\u001b[91m╸\u001b[0m\u001b[90m━━━━━━━━━━━━━━━━━━━━━━━━━━━━\u001b[0m \u001b[32m225.3/772.0 kB\u001b[0m \u001b[31m6.6 MB/s\u001b[0m eta \u001b[36m0:00:01\u001b[0m\r\u001b[2K     \u001b[90m━━━━━━━━━━━━━━━━━━━━━━━━━━━━━━━━━━━━━━━━\u001b[0m \u001b[32m772.0/772.0 kB\u001b[0m \u001b[31m13.9 MB/s\u001b[0m eta \u001b[36m0:00:00\u001b[0m\n",
            "\u001b[?25h  Preparing metadata (setup.py) ... \u001b[?25l\u001b[?25hdone\n",
            "Requirement already satisfied: joblib>=1.0.0 in /usr/local/lib/python3.10/dist-packages (from scikit-surprise) (1.4.0)\n",
            "Requirement already satisfied: numpy>=1.17.3 in /usr/local/lib/python3.10/dist-packages (from scikit-surprise) (1.25.2)\n",
            "Requirement already satisfied: scipy>=1.3.2 in /usr/local/lib/python3.10/dist-packages (from scikit-surprise) (1.11.4)\n",
            "Building wheels for collected packages: scikit-surprise\n",
            "  Building wheel for scikit-surprise (setup.py) ... \u001b[?25l\u001b[?25hdone\n",
            "  Created wheel for scikit-surprise: filename=scikit_surprise-1.1.3-cp310-cp310-linux_x86_64.whl size=3162992 sha256=02b3d401c2a10548771b1f4b3aabcf894b051827fa9cfae028ad31848fea6ef8\n",
            "  Stored in directory: /root/.cache/pip/wheels/a5/ca/a8/4e28def53797fdc4363ca4af740db15a9c2f1595ebc51fb445\n",
            "Successfully built scikit-surprise\n",
            "Installing collected packages: scikit-surprise\n",
            "Successfully installed scikit-surprise-1.1.3\n"
          ]
        }
      ],
      "source": [
        "!pip install scikit-surprise"
      ]
    },
    {
      "cell_type": "code",
      "source": [
        "from surprise import Dataset"
      ],
      "metadata": {
        "id": "u3Yj7Sx4yFJP"
      },
      "execution_count": null,
      "outputs": []
    },
    {
      "cell_type": "code",
      "source": [
        "data = Dataset.load_builtin('ml-100k')"
      ],
      "metadata": {
        "colab": {
          "base_uri": "https://localhost:8080/"
        },
        "id": "H7f1mSTdybay",
        "outputId": "38e87656-be92-41ca-ff52-03cd198db607"
      },
      "execution_count": null,
      "outputs": [
        {
          "output_type": "stream",
          "name": "stdout",
          "text": [
            "Dataset ml-100k could not be found. Do you want to download it? [Y/n] y\n",
            "Trying to download dataset from https://files.grouplens.org/datasets/movielens/ml-100k.zip...\n",
            "Done! Dataset ml-100k has been saved to /root/.surprise_data/ml-100k\n"
          ]
        }
      ]
    },
    {
      "cell_type": "code",
      "source": [
        "data"
      ],
      "metadata": {
        "id": "94Q_v2R42Tey",
        "outputId": "6d5a351f-7c3c-45a7-c7e2-de0d13085ac8",
        "colab": {
          "base_uri": "https://localhost:8080/"
        }
      },
      "execution_count": null,
      "outputs": [
        {
          "output_type": "execute_result",
          "data": {
            "text/plain": [
              "<surprise.dataset.DatasetAutoFolds at 0x79ec022bd930>"
            ]
          },
          "metadata": {},
          "execution_count": 29
        }
      ]
    },
    {
      "cell_type": "code",
      "source": [
        "from surprise import Reader"
      ],
      "metadata": {
        "id": "DSGQkC7uylFG"
      },
      "execution_count": null,
      "outputs": []
    },
    {
      "cell_type": "code",
      "source": [
        "reader = Reader(line_format='user item rating timestamp', sep='\\t', rating_scale=(1, 5))"
      ],
      "metadata": {
        "id": "CExtS4U7y0Kl"
      },
      "execution_count": null,
      "outputs": []
    },
    {
      "cell_type": "code",
      "source": [
        "from surprise import SVD"
      ],
      "metadata": {
        "id": "6UIwr-dazQBK"
      },
      "execution_count": null,
      "outputs": []
    },
    {
      "cell_type": "markdown",
      "source": [
        "Создание модели"
      ],
      "metadata": {
        "id": "6y4qHa7VzYzS"
      }
    },
    {
      "cell_type": "code",
      "source": [
        "model = SVD(n_factors=100, n_epochs=20, lr_all=0.005, reg_all=0.02)"
      ],
      "metadata": {
        "id": "fNlOpxvSy5EZ"
      },
      "execution_count": null,
      "outputs": []
    },
    {
      "cell_type": "markdown",
      "source": [
        "Обучение модели"
      ],
      "metadata": {
        "id": "MYk2J4fQzWZp"
      }
    },
    {
      "cell_type": "code",
      "source": [
        "trainset = data.build_full_trainset()\n",
        "model.fit(trainset)"
      ],
      "metadata": {
        "colab": {
          "base_uri": "https://localhost:8080/"
        },
        "id": "OGwuuorlzTjY",
        "outputId": "054ee3bd-17ca-4b90-f8c3-c0d9caa4e5df"
      },
      "execution_count": null,
      "outputs": [
        {
          "output_type": "execute_result",
          "data": {
            "text/plain": [
              "<surprise.prediction_algorithms.matrix_factorization.SVD at 0x79ec004429b0>"
            ]
          },
          "metadata": {},
          "execution_count": 10
        }
      ]
    },
    {
      "cell_type": "code",
      "source": [
        "trainset"
      ],
      "metadata": {
        "id": "SD3bWBLP2Rb6",
        "outputId": "2c4dc09d-a6af-45dd-80b8-c74a5e23eb8a",
        "colab": {
          "base_uri": "https://localhost:8080/"
        }
      },
      "execution_count": null,
      "outputs": [
        {
          "output_type": "execute_result",
          "data": {
            "text/plain": [
              "<surprise.trainset.Trainset at 0x79ec02207ca0>"
            ]
          },
          "metadata": {},
          "execution_count": 28
        }
      ]
    },
    {
      "cell_type": "markdown",
      "source": [
        "Оценка качества модели"
      ],
      "metadata": {
        "id": "Q1ktNpCYzlSS"
      }
    },
    {
      "cell_type": "code",
      "source": [
        "from surprise import accuracy"
      ],
      "metadata": {
        "id": "RYD3hmO2zhXk"
      },
      "execution_count": null,
      "outputs": []
    },
    {
      "cell_type": "code",
      "source": [
        "testset = trainset.build_testset()\n",
        "predictions = model.test(testset)"
      ],
      "metadata": {
        "id": "SuEa9Zhv0OjS"
      },
      "execution_count": null,
      "outputs": []
    },
    {
      "cell_type": "code",
      "source": [
        "mae = accuracy.mae(predictions)\n",
        "rmse = accuracy.mae(predictions)"
      ],
      "metadata": {
        "colab": {
          "base_uri": "https://localhost:8080/"
        },
        "id": "un_xTpFSzsLw",
        "outputId": "e4d69047-4d6d-472c-ea78-677e124df86c"
      },
      "execution_count": null,
      "outputs": [
        {
          "output_type": "stream",
          "name": "stdout",
          "text": [
            "MAE:  0.5345\n",
            "MAE:  0.5345\n"
          ]
        }
      ]
    },
    {
      "cell_type": "code",
      "source": [
        "from collections import defaultdict"
      ],
      "metadata": {
        "id": "X_UhtBfL0BZ4"
      },
      "execution_count": null,
      "outputs": []
    },
    {
      "cell_type": "code",
      "source": [
        "def get_top_n(predictions, n=10):\n",
        "  top_n = defaultdict(list)\n",
        "  for uid, iid, true_r, est, _ in predictions:\n",
        "      top_n[uid].append((iid, est))\n",
        "      # Then sort the predictions for each user and retrieve the k highest ones.\n",
        "  for uid, user_ratings in top_n.items():\n",
        "      user_ratings.sort(key=lambda x: x[1], reverse=True)\n",
        "      top_n[uid] = user_ratings[:n]\n",
        "  return top_n"
      ],
      "metadata": {
        "id": "O2bVUH1t0995"
      },
      "execution_count": null,
      "outputs": []
    },
    {
      "cell_type": "code",
      "source": [
        "user_id = '200'"
      ],
      "metadata": {
        "id": "lzSMY1kF1hCK"
      },
      "execution_count": null,
      "outputs": []
    },
    {
      "cell_type": "code",
      "source": [
        "top_n = get_top_n(predictions, n =10)"
      ],
      "metadata": {
        "id": "8rc4-Ug81i43"
      },
      "execution_count": null,
      "outputs": []
    },
    {
      "cell_type": "code",
      "source": [
        "for user, user_ratings in top_n.items():\n",
        "    if user == user_id:\n",
        "        print(f\"Рекомендации для пользователя {user_id}:\")\n",
        "        for item_id, rating in user_ratings:\n",
        "            print(f\"Товар ID: {item_id}, Рейтинг: {rating}\")"
      ],
      "metadata": {
        "colab": {
          "base_uri": "https://localhost:8080/"
        },
        "id": "0IWlOUee1n20",
        "outputId": "f670961b-293e-45dc-abc6-5cdede00ac00"
      },
      "execution_count": null,
      "outputs": [
        {
          "output_type": "stream",
          "name": "stdout",
          "text": [
            "Рекомендации для пользователя 200:\n",
            "Товар ID: 318, Рейтинг: 5\n",
            "Товар ID: 174, Рейтинг: 5\n",
            "Товар ID: 50, Рейтинг: 5\n",
            "Товар ID: 496, Рейтинг: 5\n",
            "Товар ID: 98, Рейтинг: 4.971359860906837\n",
            "Товар ID: 483, Рейтинг: 4.946599314640968\n",
            "Товар ID: 478, Рейтинг: 4.9135478857658565\n",
            "Товар ID: 204, Рейтинг: 4.890677256633738\n",
            "Товар ID: 132, Рейтинг: 4.88633331573081\n",
            "Товар ID: 432, Рейтинг: 4.883704280063529\n"
          ]
        }
      ]
    }
  ]
}